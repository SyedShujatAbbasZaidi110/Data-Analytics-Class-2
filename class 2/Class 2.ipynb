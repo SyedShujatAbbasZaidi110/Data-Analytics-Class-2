{
 "cells": [
  {
   "cell_type": "code",
   "execution_count": 2,
   "id": "0991fb24-9063-4976-9028-7cb305a76c41",
   "metadata": {},
   "outputs": [
    {
     "name": "stdout",
     "output_type": "stream",
     "text": [
      "hello world\n"
     ]
    }
   ],
   "source": [
    "print(\"hello world\")"
   ]
  },
  {
   "cell_type": "markdown",
   "id": "29ca8543-f5c3-4426-8286-c776af89f643",
   "metadata": {},
   "source": [
    "print(\"hello world\")"
   ]
  },
  {
   "cell_type": "code",
   "execution_count": 1,
   "id": "489d7518-ad57-4deb-86b2-25722ee14c6e",
   "metadata": {},
   "outputs": [
    {
     "data": {
      "text/plain": [
       "[13, 14, 15]"
      ]
     },
     "execution_count": 1,
     "metadata": {},
     "output_type": "execute_result"
    }
   ],
   "source": [
    "name = [13 , 14 , 15]\n",
    "name"
   ]
  },
  {
   "cell_type": "code",
   "execution_count": 1,
   "id": "15cec07f-e975-4683-bae0-bd7df1b072ed",
   "metadata": {},
   "outputs": [],
   "source": [
    "husbandName = \"Shujat Abbas\"\n",
    "wifeName = \"Warisha Fatima\"\n"
   ]
  },
  {
   "cell_type": "code",
   "execution_count": 13,
   "id": "181217cf-0480-4c26-bc3c-8fc4f0f9bf9d",
   "metadata": {},
   "outputs": [
    {
     "name": "stdout",
     "output_type": "stream",
     "text": [
      "Shujat Abbas Loves Warisha Fatima\n"
     ]
    }
   ],
   "source": [
    "print(husbandName + \" \" + \"Loves\" + \" \" + wifeName)"
   ]
  },
  {
   "cell_type": "code",
   "execution_count": null,
   "id": "40f07531-d811-4095-8766-d6da5b1f969f",
   "metadata": {},
   "outputs": [],
   "source": []
  }
 ],
 "metadata": {
  "kernelspec": {
   "display_name": "Python 3 (ipykernel)",
   "language": "python",
   "name": "python3"
  },
  "language_info": {
   "codemirror_mode": {
    "name": "ipython",
    "version": 3
   },
   "file_extension": ".py",
   "mimetype": "text/x-python",
   "name": "python",
   "nbconvert_exporter": "python",
   "pygments_lexer": "ipython3",
   "version": "3.12.7"
  }
 },
 "nbformat": 4,
 "nbformat_minor": 5
}
